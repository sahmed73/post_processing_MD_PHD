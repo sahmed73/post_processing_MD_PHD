{
 "cells": [
  {
   "cell_type": "code",
   "execution_count": null,
   "id": "78e8ea84-259a-4d76-b148-4ad588969f60",
   "metadata": {},
   "outputs": [
    {
     "name": "stderr",
     "output_type": "stream",
     "text": [
      "C:\\ProgramData\\anaconda3\\Lib\\site-packages\\ovito\\_extensions\\anari.py:2: UserWarning: Did you accidentally install the OVITO package from the PyPI repository in an Anaconda/Miniconda Python interpreter using the 'pip' command? This will likely lead to conflicts with existing libraries in the Anaconda environment, and import of the OVITO module may fail with an error related to the Qt framework. To fix this, please uninstall the ovito pip package by running 'pip uninstall -y ovito PySide6' and then install the OVITO Anaconda package provided by OVITO GmbH. Visit https://docs.ovito.org/python/introduction/installation.html for further instructions. If you would rather like to ignore this warning message, add the following code to the top of your Python script:\n",
      "\n",
      "  import warnings\n",
      "  warnings.filterwarnings('ignore', message='.*OVITO.*PyPI')\n",
      "\n",
      "  import ovito._extensions.pyscript\n"
     ]
    }
   ],
   "source": [
    "# -*- coding: utf-8 -*-\n",
    "\"\"\"\n",
    "Author: Shihab Ahmed\n",
    "Created on Sat Apr  6 11:03:14 2024\n",
    "\"\"\"\n",
    "from ovito.io import import_file, export_file\n",
    "from ovito.modifiers import CalculateDisplacementsModifier\n",
    "import numpy\n",
    "\n",
    "# Load input data and create a data pipeline.\n",
    "pipeline = import_file(r\"C:\\Users\\arup2\\OneDrive - University of California Merced\\Desktop\\LAMMPS\\OPLSAA\\PAO+BHT\\Production\\300K\\Sim-1\")\n",
    "\n",
    "# Calculate per-particle displacements with respect to initial simulation frame:\n",
    "pipeline.modifiers.append(CalculateDisplacementsModifier())\n",
    "\n",
    "# Define the custom modifier function:\n",
    "def calculate_msd(frame, data):\n",
    "\n",
    "    # Access the per-particle displacement magnitudes computed by the \n",
    "    # CalculateDisplacementsModifier that precedes this user-defined modifier in the \n",
    "    # data pipeline:\n",
    "    displacement_magnitudes = data.particles['Displacement Magnitude']\n",
    "\n",
    "    # Compute MSD:\n",
    "    msd = numpy.sum(displacement_magnitudes ** 2) / len(displacement_magnitudes)\n",
    "\n",
    "    # Output MSD value as a global attribute: \n",
    "    data.attributes[\"MSD\"] = msd \n",
    "\n",
    "# Insert user-defined modifier function into the data pipeline.\n",
    "pipeline.modifiers.append(calculate_msd)\n",
    "\n",
    "# Export calculated MSD value to a text file and let OVITO's data pipeline do the rest:\n",
    "export_file(pipeline, \"output/msd_data.txt\", \n",
    "    format = \"txt/attr\",\n",
    "    columns = [\"Timestep\", \"MSD\"],\n",
    "    multiple_frames = True)"
   ]
  },
  {
   "cell_type": "code",
   "execution_count": null,
   "id": "8bf49cc0-ac4a-4e08-94b3-c50eb57aae9f",
   "metadata": {},
   "outputs": [],
   "source": []
  }
 ],
 "metadata": {
  "kernelspec": {
   "display_name": "Python 3 (ipykernel)",
   "language": "python",
   "name": "python3"
  },
  "language_info": {
   "codemirror_mode": {
    "name": "ipython",
    "version": 3
   },
   "file_extension": ".py",
   "mimetype": "text/x-python",
   "name": "python",
   "nbconvert_exporter": "python",
   "pygments_lexer": "ipython3",
   "version": "3.11.6"
  }
 },
 "nbformat": 4,
 "nbformat_minor": 5
}
